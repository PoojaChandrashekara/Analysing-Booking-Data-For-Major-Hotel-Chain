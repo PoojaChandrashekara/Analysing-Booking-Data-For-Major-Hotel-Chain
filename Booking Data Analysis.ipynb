{
 "cells": [
  {
   "cell_type": "code",
   "execution_count": 1,
   "metadata": {},
   "outputs": [],
   "source": [
    "import pandas as pd\n",
    "import matplotlib.pyplot as plt\n",
    "import seaborn as sns"
   ]
  },
  {
   "cell_type": "code",
   "execution_count": 8,
   "metadata": {},
   "outputs": [],
   "source": [
    "booking_data = pd.read_excel('data.xlsx', usecols=['Booking ID','Booking Date', 'Arrival Date', 'Lead Time', 'Nights', 'Guests', 'Distribution Channel', 'Customer Type', 'Country', 'Deposit Type', 'Avg Daily Rate', 'Cancelled (0/1)', 'Revenue', 'Revenue Loss', 'Status'])"
   ]
  },
  {
   "cell_type": "code",
   "execution_count": 9,
   "metadata": {},
   "outputs": [
    {
     "data": {
      "text/html": [
       "<div>\n",
       "<style scoped>\n",
       "    .dataframe tbody tr th:only-of-type {\n",
       "        vertical-align: middle;\n",
       "    }\n",
       "\n",
       "    .dataframe tbody tr th {\n",
       "        vertical-align: top;\n",
       "    }\n",
       "\n",
       "    .dataframe thead th {\n",
       "        text-align: right;\n",
       "    }\n",
       "</style>\n",
       "<table border=\"1\" class=\"dataframe\">\n",
       "  <thead>\n",
       "    <tr style=\"text-align: right;\">\n",
       "      <th></th>\n",
       "      <th>Booking ID</th>\n",
       "      <th>Booking Date</th>\n",
       "      <th>Arrival Date</th>\n",
       "      <th>Lead Time</th>\n",
       "      <th>Nights</th>\n",
       "      <th>Guests</th>\n",
       "      <th>Distribution Channel</th>\n",
       "      <th>Customer Type</th>\n",
       "      <th>Country</th>\n",
       "      <th>Deposit Type</th>\n",
       "      <th>Avg Daily Rate</th>\n",
       "      <th>Status</th>\n",
       "      <th>Cancelled (0/1)</th>\n",
       "      <th>Revenue</th>\n",
       "      <th>Revenue Loss</th>\n",
       "    </tr>\n",
       "  </thead>\n",
       "  <tbody>\n",
       "    <tr>\n",
       "      <th>0</th>\n",
       "      <td>1</td>\n",
       "      <td>2014-07-24</td>\n",
       "      <td>2015-07-01</td>\n",
       "      <td>342</td>\n",
       "      <td>0</td>\n",
       "      <td>2</td>\n",
       "      <td>Direct</td>\n",
       "      <td>Transient</td>\n",
       "      <td>Portugal</td>\n",
       "      <td>No Deposit</td>\n",
       "      <td>0.0</td>\n",
       "      <td>Check-Out</td>\n",
       "      <td>0</td>\n",
       "      <td>0.0</td>\n",
       "      <td>0.0</td>\n",
       "    </tr>\n",
       "    <tr>\n",
       "      <th>1</th>\n",
       "      <td>2</td>\n",
       "      <td>2013-06-24</td>\n",
       "      <td>2015-07-01</td>\n",
       "      <td>737</td>\n",
       "      <td>0</td>\n",
       "      <td>2</td>\n",
       "      <td>Direct</td>\n",
       "      <td>Transient</td>\n",
       "      <td>Portugal</td>\n",
       "      <td>No Deposit</td>\n",
       "      <td>0.0</td>\n",
       "      <td>Check-Out</td>\n",
       "      <td>0</td>\n",
       "      <td>0.0</td>\n",
       "      <td>0.0</td>\n",
       "    </tr>\n",
       "    <tr>\n",
       "      <th>2</th>\n",
       "      <td>3</td>\n",
       "      <td>2015-06-24</td>\n",
       "      <td>2015-07-01</td>\n",
       "      <td>7</td>\n",
       "      <td>1</td>\n",
       "      <td>1</td>\n",
       "      <td>Direct</td>\n",
       "      <td>Transient</td>\n",
       "      <td>United Kingdom</td>\n",
       "      <td>No Deposit</td>\n",
       "      <td>75.0</td>\n",
       "      <td>Check-Out</td>\n",
       "      <td>0</td>\n",
       "      <td>75.0</td>\n",
       "      <td>0.0</td>\n",
       "    </tr>\n",
       "    <tr>\n",
       "      <th>3</th>\n",
       "      <td>4</td>\n",
       "      <td>2015-06-18</td>\n",
       "      <td>2015-07-01</td>\n",
       "      <td>13</td>\n",
       "      <td>1</td>\n",
       "      <td>1</td>\n",
       "      <td>Corporate</td>\n",
       "      <td>Transient</td>\n",
       "      <td>United Kingdom</td>\n",
       "      <td>No Deposit</td>\n",
       "      <td>75.0</td>\n",
       "      <td>Check-Out</td>\n",
       "      <td>0</td>\n",
       "      <td>75.0</td>\n",
       "      <td>0.0</td>\n",
       "    </tr>\n",
       "    <tr>\n",
       "      <th>4</th>\n",
       "      <td>5</td>\n",
       "      <td>2015-06-17</td>\n",
       "      <td>2015-07-01</td>\n",
       "      <td>14</td>\n",
       "      <td>2</td>\n",
       "      <td>2</td>\n",
       "      <td>Online Travel Agent</td>\n",
       "      <td>Transient</td>\n",
       "      <td>United Kingdom</td>\n",
       "      <td>No Deposit</td>\n",
       "      <td>98.0</td>\n",
       "      <td>Check-Out</td>\n",
       "      <td>0</td>\n",
       "      <td>196.0</td>\n",
       "      <td>0.0</td>\n",
       "    </tr>\n",
       "  </tbody>\n",
       "</table>\n",
       "</div>"
      ],
      "text/plain": [
       "   Booking ID Booking Date Arrival Date  Lead Time  Nights  Guests  \\\n",
       "0           1   2014-07-24   2015-07-01        342       0       2   \n",
       "1           2   2013-06-24   2015-07-01        737       0       2   \n",
       "2           3   2015-06-24   2015-07-01          7       1       1   \n",
       "3           4   2015-06-18   2015-07-01         13       1       1   \n",
       "4           5   2015-06-17   2015-07-01         14       2       2   \n",
       "\n",
       "  Distribution Channel Customer Type         Country Deposit Type  \\\n",
       "0               Direct     Transient        Portugal   No Deposit   \n",
       "1               Direct     Transient        Portugal   No Deposit   \n",
       "2               Direct     Transient  United Kingdom   No Deposit   \n",
       "3            Corporate     Transient  United Kingdom   No Deposit   \n",
       "4  Online Travel Agent     Transient  United Kingdom   No Deposit   \n",
       "\n",
       "   Avg Daily Rate     Status  Cancelled (0/1)  Revenue  Revenue Loss  \n",
       "0             0.0  Check-Out                0      0.0           0.0  \n",
       "1             0.0  Check-Out                0      0.0           0.0  \n",
       "2            75.0  Check-Out                0     75.0           0.0  \n",
       "3            75.0  Check-Out                0     75.0           0.0  \n",
       "4            98.0  Check-Out                0    196.0           0.0  "
      ]
     },
     "execution_count": 9,
     "metadata": {},
     "output_type": "execute_result"
    }
   ],
   "source": [
    "booking_data.head()"
   ]
  },
  {
   "cell_type": "code",
   "execution_count": 10,
   "metadata": {},
   "outputs": [],
   "source": [
    "booking_data['Year'] = booking_data['Arrival Date'].dt.year\n",
    "booking_data['Month'] = booking_data['Arrival Date'].dt.month"
   ]
  },
  {
   "cell_type": "code",
   "execution_count": 11,
   "metadata": {},
   "outputs": [
    {
     "data": {
      "image/png": "[encoded data removed]",
      "text/plain": [
       "<Figure size 1400x800 with 2 Axes>"
      ]
     },
     "metadata": {},
     "output_type": "display_data"
    }
   ],
   "source": [
    "# Convert 'Arrival Date' to datetime format if not already done\n",
    "booking_data['Arrival Date'] = pd.to_datetime(booking_data['Arrival Date'])\n",
    "\n",
    "# Extract year and month for further analysis\n",
    "booking_data['Year'] = booking_data['Arrival Date'].dt.year\n",
    "booking_data['Month'] = booking_data['Arrival Date'].dt.month\n",
    "\n",
    "# Group by year and month to count bookings\n",
    "bookings_by_month_year = booking_data.groupby(['Year', 'Month']).size().reset_index(name='Bookings')\n",
    "\n",
    "# Pivot the data for easier plotting\n",
    "bookings_pivot = bookings_by_month_year.pivot(index='Month', columns='Year', values='Bookings').fillna(0)\n",
    "\n",
    "# Proceeding with the corrected heatmap visualization\n",
    "plt.figure(figsize=(14, 8))\n",
    "sns.heatmap(bookings_pivot, annot=True, fmt=\"g\", cmap=\"YlGnBu\", linewidths=.5)\n",
    "plt.title('Booking Patterns Over Time by Month and Year')\n",
    "plt.xlabel('Year')\n",
    "plt.ylabel('Month')\n",
    "plt.yticks(rotation=0)  # Ensure month labels are horizontal for better readability\n",
    "plt.show()"
   ]
  },
  {
   "cell_type": "code",
   "execution_count": 12,
   "metadata": {},
   "outputs": [
    {
     "name": "stdout",
     "output_type": "stream",
     "text": [
      "Distribution Channel\n",
      "Corporate                44.910289\n",
      "Direct                   57.829362\n",
      "Offline Travel Agent    135.585261\n",
      "Online Travel Agent     108.248798\n",
      "Undefined                23.000000\n",
      "Name: Lead Time, dtype: float64\n",
      "                       Lead Time  Customer Type Encoded\n",
      "Lead Time               1.000000               0.073403\n",
      "Customer Type Encoded   0.073403               1.000000\n"
     ]
    }
   ],
   "source": [
    "avg_lead_time_by_channel = booking_data.groupby('Distribution Channel')['Lead Time'].mean()\n",
    "\n",
    "# Encode the customer type as a numeric variable\n",
    "booking_data['Customer Type Encoded'] = booking_data['Customer Type'].astype('category').cat.codes\n",
    "\n",
    "# Calculate the correlation between lead time and customer type\n",
    "correlation_matrix = booking_data[['Lead Time', 'Customer Type Encoded']].corr()\n",
    "\n",
    "# Output the results\n",
    "print(avg_lead_time_by_channel)\n",
    "print(correlation_matrix)"
   ]
  },
  {
   "cell_type": "code",
   "execution_count": 13,
   "metadata": {},
   "outputs": [
    {
     "data": {
      "text/html": [
       "<div>\n",
       "<style scoped>\n",
       "    .dataframe tbody tr th:only-of-type {\n",
       "        vertical-align: middle;\n",
       "    }\n",
       "\n",
       "    .dataframe tbody tr th {\n",
       "        vertical-align: top;\n",
       "    }\n",
       "\n",
       "    .dataframe thead th {\n",
       "        text-align: right;\n",
       "    }\n",
       "</style>\n",
       "<table border=\"1\" class=\"dataframe\">\n",
       "  <thead>\n",
       "    <tr style=\"text-align: right;\">\n",
       "      <th></th>\n",
       "      <th>Distribution Channel</th>\n",
       "      <th>Total Bookings</th>\n",
       "      <th>Average ADR</th>\n",
       "    </tr>\n",
       "  </thead>\n",
       "  <tbody>\n",
       "    <tr>\n",
       "      <th>0</th>\n",
       "      <td>Corporate</td>\n",
       "      <td>6677</td>\n",
       "      <td>69.325204</td>\n",
       "    </tr>\n",
       "    <tr>\n",
       "      <th>1</th>\n",
       "      <td>Direct</td>\n",
       "      <td>14645</td>\n",
       "      <td>106.654983</td>\n",
       "    </tr>\n",
       "    <tr>\n",
       "      <th>2</th>\n",
       "      <td>Offline Travel Agent</td>\n",
       "      <td>23991</td>\n",
       "      <td>87.145444</td>\n",
       "    </tr>\n",
       "    <tr>\n",
       "      <th>3</th>\n",
       "      <td>Online Travel Agent</td>\n",
       "      <td>74072</td>\n",
       "      <td>108.567791</td>\n",
       "    </tr>\n",
       "    <tr>\n",
       "      <th>4</th>\n",
       "      <td>Undefined</td>\n",
       "      <td>5</td>\n",
       "      <td>46.240000</td>\n",
       "    </tr>\n",
       "  </tbody>\n",
       "</table>\n",
       "</div>"
      ],
      "text/plain": [
       "   Distribution Channel  Total Bookings  Average ADR\n",
       "0             Corporate            6677    69.325204\n",
       "1                Direct           14645   106.654983\n",
       "2  Offline Travel Agent           23991    87.145444\n",
       "3   Online Travel Agent           74072   108.567791\n",
       "4             Undefined               5    46.240000"
      ]
     },
     "execution_count": 13,
     "metadata": {},
     "output_type": "execute_result"
    }
   ],
   "source": [
    "total_bookings_by_channel = booking_data.groupby('Distribution Channel')['Booking ID'].count().reset_index(name='Total Bookings')\n",
    "\n",
    "# Calculate the average ADR for each distribution channel\n",
    "avg_adr_by_channel = booking_data.groupby('Distribution Channel')['Avg Daily Rate'].mean().reset_index(name='Average ADR')\n",
    "\n",
    "# Combine the total bookings and average ADR into a single dataframe for comparison\n",
    "channel_contribution_adr = total_bookings_by_channel.merge(avg_adr_by_channel, on='Distribution Channel')\n",
    "\n",
    "channel_contribution_adr"
   ]
  },
  {
   "cell_type": "code",
   "execution_count": 14,
   "metadata": {},
   "outputs": [
    {
     "name": "stdout",
     "output_type": "stream",
     "text": [
      "            Country  Total_Guests  Total_Revenue  Average_Revenue_Per_Guest\n",
      "128        Portugal         90036     9037388.37                 100.375276\n",
      "165  United Kingdom         24568     4152064.34                 169.002944\n",
      "55           France         21579     3100696.28                 143.690453\n",
      "148           Spain         18153     2282030.49                 125.710929\n",
      "60          Germany         14198     2068354.65                 145.679296\n"
     ]
    }
   ],
   "source": [
    "guest_distribution = booking_data.groupby('Country').agg(Total_Guests=('Guests', 'sum'),\n",
    "                                                         Total_Revenue=('Revenue', 'sum')).reset_index()\n",
    "\n",
    "# Sort the results by 'Total_Revenue' to see which countries contribute most to the revenue\n",
    "guest_distribution = guest_distribution.sort_values(by='Total_Revenue', ascending=False)\n",
    "\n",
    "# Additionally, calculate the average revenue per guest by country\n",
    "guest_distribution['Average_Revenue_Per_Guest'] = guest_distribution['Total_Revenue'] / guest_distribution['Total_Guests']\n",
    "\n",
    "# Output the result\n",
    "print(guest_distribution.head())  # Displays the top 5 countries by revenue"
   ]
  },
  {
   "cell_type": "code",
   "execution_count": null,
   "metadata": {},
   "outputs": [],
   "source": []
  }
 ],
 "metadata": {
  "kernelspec": {
   "display_name": "Python 3",
   "language": "python",
   "name": "python3"
  },
  "language_info": {
   "codemirror_mode": {
    "name": "ipython",
    "version": 3
   },
   "file_extension": ".py",
   "mimetype": "text/x-python",
   "name": "python",
   "nbconvert_exporter": "python",
   "pygments_lexer": "ipython3",
   "version": "3.10.13"
  }
 },
 "nbformat": 4,
 "nbformat_minor": 2
}
