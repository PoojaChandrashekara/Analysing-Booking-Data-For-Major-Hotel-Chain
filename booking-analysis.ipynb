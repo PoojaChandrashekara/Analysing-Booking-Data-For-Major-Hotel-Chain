{
 "cells": [
  {
   "cell_type": "code",
   "execution_count": 33,
   "metadata": {},
   "outputs": [],
   "source": [
    "import os\n",
    "import pandas as pd\n",
    "import matplotlib.pyplot as plt\n",
    "from scipy import stats\n",
    "\n"
   ]
  },
  {
   "cell_type": "markdown",
   "metadata": {},
   "source": [
    "Read the file"
   ]
  },
  {
   "cell_type": "code",
   "execution_count": 2,
   "metadata": {},
   "outputs": [
    {
     "name": "stdout",
     "output_type": "stream",
     "text": [
      "        Booking ID   Hotel Booking Date Arrival Date  Lead Time  Nights  \\\n",
      "0                1  Resort   2014-07-24   2015-07-01        342       0   \n",
      "1                2  Resort   2013-06-24   2015-07-01        737       0   \n",
      "2                3  Resort   2015-06-24   2015-07-01          7       1   \n",
      "3                4  Resort   2015-06-18   2015-07-01         13       1   \n",
      "4                5  Resort   2015-06-17   2015-07-01         14       2   \n",
      "...            ...     ...          ...          ...        ...     ...   \n",
      "119385      119386    City   2017-08-07   2017-08-30         23       7   \n",
      "119386      119387    City   2017-05-21   2017-08-31        102       7   \n",
      "119387      119388    City   2017-07-28   2017-08-31         34       7   \n",
      "119388      119389    City   2017-05-14   2017-08-31        109       7   \n",
      "119389      119390    City   2017-02-05   2017-08-29        205       9   \n",
      "\n",
      "        Guests  Distribution Channel Customer Type         Country  \\\n",
      "0            2                Direct     Transient        Portugal   \n",
      "1            2                Direct     Transient        Portugal   \n",
      "2            1                Direct     Transient  United Kingdom   \n",
      "3            1             Corporate     Transient  United Kingdom   \n",
      "4            2   Online Travel Agent     Transient  United Kingdom   \n",
      "...        ...                   ...           ...             ...   \n",
      "119385       2  Offline Travel Agent     Transient         Belgium   \n",
      "119386       3   Online Travel Agent     Transient          France   \n",
      "119387       2   Online Travel Agent     Transient         Germany   \n",
      "119388       2   Online Travel Agent     Transient  United Kingdom   \n",
      "119389       2   Online Travel Agent     Transient         Germany   \n",
      "\n",
      "       Deposit Type  Avg Daily Rate     Status Status Update  Cancelled (0/1)  \\\n",
      "0        No Deposit            0.00  Check-Out    2015-07-01                0   \n",
      "1        No Deposit            0.00  Check-Out    2015-07-01                0   \n",
      "2        No Deposit           75.00  Check-Out    2015-07-02                0   \n",
      "3        No Deposit           75.00  Check-Out    2015-07-02                0   \n",
      "4        No Deposit           98.00  Check-Out    2015-07-03                0   \n",
      "...             ...             ...        ...           ...              ...   \n",
      "119385   No Deposit           96.14  Check-Out    2017-09-06                0   \n",
      "119386   No Deposit          225.43  Check-Out    2017-09-07                0   \n",
      "119387   No Deposit          157.71  Check-Out    2017-09-07                0   \n",
      "119388   No Deposit          104.40  Check-Out    2017-09-07                0   \n",
      "119389   No Deposit          151.20  Check-Out    2017-09-07                0   \n",
      "\n",
      "        Revenue  Revenue Loss  \n",
      "0          0.00           0.0  \n",
      "1          0.00           0.0  \n",
      "2         75.00           0.0  \n",
      "3         75.00           0.0  \n",
      "4        196.00           0.0  \n",
      "...         ...           ...  \n",
      "119385   672.98           0.0  \n",
      "119386  1578.01           0.0  \n",
      "119387  1103.97           0.0  \n",
      "119388   730.80           0.0  \n",
      "119389  1360.80           0.0  \n",
      "\n",
      "[119390 rows x 17 columns]\n"
     ]
    }
   ],
   "source": [
    "# Read the Excel file\n",
    "file_path = os.path.join('data', 'Booking_Data.xlsx')\n",
    "df = pd.read_excel(file_path)\n",
    "\n",
    "# Display the dataframe\n",
    "print(df)\n"
   ]
  },
  {
   "cell_type": "markdown",
   "metadata": {},
   "source": [
    "Data Inspection"
   ]
  },
  {
   "cell_type": "code",
   "execution_count": 3,
   "metadata": {},
   "outputs": [
    {
     "data": {
      "text/plain": [
       "(119390, 17)"
      ]
     },
     "execution_count": 3,
     "metadata": {},
     "output_type": "execute_result"
    }
   ],
   "source": [
    "#check the shape of dataset\n",
    "df.shape"
   ]
  },
  {
   "cell_type": "code",
   "execution_count": 4,
   "metadata": {},
   "outputs": [
    {
     "data": {
      "text/plain": [
       "Index(['Booking ID', 'Hotel', 'Booking Date', 'Arrival Date', 'Lead Time',\n",
       "       'Nights', 'Guests', 'Distribution Channel', 'Customer Type', 'Country',\n",
       "       'Deposit Type', 'Avg Daily Rate', 'Status', 'Status Update',\n",
       "       'Cancelled (0/1)', 'Revenue', 'Revenue Loss'],\n",
       "      dtype='object')"
      ]
     },
     "execution_count": 4,
     "metadata": {},
     "output_type": "execute_result"
    }
   ],
   "source": [
    "df.columns"
   ]
  },
  {
   "cell_type": "code",
   "execution_count": 5,
   "metadata": {},
   "outputs": [
    {
     "name": "stdout",
     "output_type": "stream",
     "text": [
      "<class 'pandas.core.frame.DataFrame'>\n",
      "RangeIndex: 119390 entries, 0 to 119389\n",
      "Data columns (total 17 columns):\n",
      " #   Column                Non-Null Count   Dtype         \n",
      "---  ------                --------------   -----         \n",
      " 0   Booking ID            119390 non-null  int64         \n",
      " 1   Hotel                 119390 non-null  object        \n",
      " 2   Booking Date          119390 non-null  datetime64[ns]\n",
      " 3   Arrival Date          119390 non-null  datetime64[ns]\n",
      " 4   Lead Time             119390 non-null  int64         \n",
      " 5   Nights                119390 non-null  int64         \n",
      " 6   Guests                119390 non-null  int64         \n",
      " 7   Distribution Channel  119390 non-null  object        \n",
      " 8   Customer Type         119390 non-null  object        \n",
      " 9   Country               118902 non-null  object        \n",
      " 10  Deposit Type          119390 non-null  object        \n",
      " 11  Avg Daily Rate        119390 non-null  float64       \n",
      " 12  Status                119390 non-null  object        \n",
      " 13  Status Update         119390 non-null  datetime64[ns]\n",
      " 14  Cancelled (0/1)       119390 non-null  int64         \n",
      " 15  Revenue               119390 non-null  float64       \n",
      " 16  Revenue Loss          119390 non-null  float64       \n",
      "dtypes: datetime64[ns](3), float64(3), int64(5), object(6)\n",
      "memory usage: 15.5+ MB\n"
     ]
    }
   ],
   "source": [
    "df.info()"
   ]
  },
  {
   "cell_type": "markdown",
   "metadata": {},
   "source": [
    "Handling Missing and Duplicate values"
   ]
  },
  {
   "cell_type": "code",
   "execution_count": 14,
   "metadata": {},
   "outputs": [
    {
     "name": "stdout",
     "output_type": "stream",
     "text": [
      "0\n",
      "Booking ID              0\n",
      "Hotel                   0\n",
      "Booking Date            0\n",
      "Arrival Date            0\n",
      "Lead Time               0\n",
      "Nights                  0\n",
      "Guests                  0\n",
      "Distribution Channel    0\n",
      "Customer Type           0\n",
      "Country                 0\n",
      "Deposit Type            0\n",
      "Avg Daily Rate          0\n",
      "Status                  0\n",
      "Status Update           0\n",
      "Cancelled (0/1)         0\n",
      "Revenue                 0\n",
      "Revenue Loss            0\n",
      "dtype: int64\n",
      "Booking ID              0\n",
      "Hotel                   0\n",
      "Booking Date            0\n",
      "Arrival Date            0\n",
      "Lead Time               0\n",
      "Nights                  0\n",
      "Guests                  0\n",
      "Distribution Channel    0\n",
      "Customer Type           0\n",
      "Country                 0\n",
      "Deposit Type            0\n",
      "Avg Daily Rate          0\n",
      "Status                  0\n",
      "Status Update           0\n",
      "Cancelled (0/1)         0\n",
      "Revenue                 0\n",
      "Revenue Loss            0\n",
      "dtype: int64\n"
     ]
    }
   ],
   "source": [
    "#checking for duplicate values\n",
    "print(df.duplicated().sum())\n",
    "# Check for missing/null values in Dataset\n",
    "print(df.isnull().sum())\n",
    "# check for NaN values\n",
    "print(df.isna().sum())"
   ]
  },
  {
   "cell_type": "markdown",
   "metadata": {},
   "source": [
    "There are no duplicate values but there are 488 Null or Missing values of Country Col in Dataset"
   ]
  },
  {
   "cell_type": "code",
   "execution_count": 10,
   "metadata": {},
   "outputs": [
    {
     "name": "stdout",
     "output_type": "stream",
     "text": [
      "Country\n",
      "Portugal          48590\n",
      "United Kingdom    12129\n",
      "France            10415\n",
      "Spain              8568\n",
      "Germany            7287\n",
      "                  ...  \n",
      "Djibouti              1\n",
      "Botswana              1\n",
      "Honduras              1\n",
      "Virgin Islands        1\n",
      "Sierra Leone          1\n",
      "Name: count, Length: 174, dtype: int64\n"
     ]
    }
   ],
   "source": [
    "#checking category of features whoes having null values\n",
    "print(df.Country.value_counts())"
   ]
  },
  {
   "cell_type": "markdown",
   "metadata": {},
   "source": [
    "We can see Portugal is most frequent country, so replacing null values with the most frequent Country.\n"
   ]
  },
  {
   "cell_type": "code",
   "execution_count": 11,
   "metadata": {},
   "outputs": [],
   "source": [
    "# Replacing null values with the most frequent value in a variable\n",
    "df['Country'] = df['Country'].fillna(df['Country'].mode()[0])\n"
   ]
  },
  {
   "cell_type": "code",
   "execution_count": 12,
   "metadata": {},
   "outputs": [
    {
     "name": "stdout",
     "output_type": "stream",
     "text": [
      "Booking ID              0\n",
      "Hotel                   0\n",
      "Booking Date            0\n",
      "Arrival Date            0\n",
      "Lead Time               0\n",
      "Nights                  0\n",
      "Guests                  0\n",
      "Distribution Channel    0\n",
      "Customer Type           0\n",
      "Country                 0\n",
      "Deposit Type            0\n",
      "Avg Daily Rate          0\n",
      "Status                  0\n",
      "Status Update           0\n",
      "Cancelled (0/1)         0\n",
      "Revenue                 0\n",
      "Revenue Loss            0\n",
      "dtype: int64\n"
     ]
    }
   ],
   "source": [
    "#check the null values now after replacing\n",
    "print(df.isnull().sum())"
   ]
  },
  {
   "cell_type": "markdown",
   "metadata": {},
   "source": [
    "Null Values have been replaced"
   ]
  },
  {
   "cell_type": "markdown",
   "metadata": {},
   "source": [
    "Now lets look in to basic statistical details of data"
   ]
  },
  {
   "cell_type": "code",
   "execution_count": 13,
   "metadata": {},
   "outputs": [
    {
     "data": {
      "text/html": [
       "<div>\n",
       "<style scoped>\n",
       "    .dataframe tbody tr th:only-of-type {\n",
       "        vertical-align: middle;\n",
       "    }\n",
       "\n",
       "    .dataframe tbody tr th {\n",
       "        vertical-align: top;\n",
       "    }\n",
       "\n",
       "    .dataframe thead th {\n",
       "        text-align: right;\n",
       "    }\n",
       "</style>\n",
       "<table border=\"1\" class=\"dataframe\">\n",
       "  <thead>\n",
       "    <tr style=\"text-align: right;\">\n",
       "      <th></th>\n",
       "      <th>Booking ID</th>\n",
       "      <th>Booking Date</th>\n",
       "      <th>Arrival Date</th>\n",
       "      <th>Lead Time</th>\n",
       "      <th>Nights</th>\n",
       "      <th>Guests</th>\n",
       "      <th>Avg Daily Rate</th>\n",
       "      <th>Status Update</th>\n",
       "      <th>Cancelled (0/1)</th>\n",
       "      <th>Revenue</th>\n",
       "      <th>Revenue Loss</th>\n",
       "    </tr>\n",
       "  </thead>\n",
       "  <tbody>\n",
       "    <tr>\n",
       "      <th>count</th>\n",
       "      <td>119390.000000</td>\n",
       "      <td>119390</td>\n",
       "      <td>119390</td>\n",
       "      <td>119390.000000</td>\n",
       "      <td>119390.000000</td>\n",
       "      <td>119390.000000</td>\n",
       "      <td>119390.000000</td>\n",
       "      <td>119390</td>\n",
       "      <td>119390.000000</td>\n",
       "      <td>119390.000000</td>\n",
       "      <td>119390.000000</td>\n",
       "    </tr>\n",
       "    <tr>\n",
       "      <th>mean</th>\n",
       "      <td>59695.500000</td>\n",
       "      <td>2016-05-16 16:23:19.353379840</td>\n",
       "      <td>2016-08-28 16:39:45.727447808</td>\n",
       "      <td>104.011416</td>\n",
       "      <td>3.427900</td>\n",
       "      <td>1.968239</td>\n",
       "      <td>101.831122</td>\n",
       "      <td>2016-07-30 00:24:47.883407104</td>\n",
       "      <td>0.370416</td>\n",
       "      <td>247.931966</td>\n",
       "      <td>-109.916242</td>\n",
       "    </tr>\n",
       "    <tr>\n",
       "      <th>min</th>\n",
       "      <td>1.000000</td>\n",
       "      <td>2013-06-24 00:00:00</td>\n",
       "      <td>2015-07-01 00:00:00</td>\n",
       "      <td>0.000000</td>\n",
       "      <td>0.000000</td>\n",
       "      <td>0.000000</td>\n",
       "      <td>-6.380000</td>\n",
       "      <td>2014-10-17 00:00:00</td>\n",
       "      <td>0.000000</td>\n",
       "      <td>-63.800000</td>\n",
       "      <td>-6300.000000</td>\n",
       "    </tr>\n",
       "    <tr>\n",
       "      <th>25%</th>\n",
       "      <td>29848.250000</td>\n",
       "      <td>2015-11-28 00:00:00</td>\n",
       "      <td>2016-03-13 00:00:00</td>\n",
       "      <td>18.000000</td>\n",
       "      <td>2.000000</td>\n",
       "      <td>2.000000</td>\n",
       "      <td>69.290000</td>\n",
       "      <td>2016-02-01 00:00:00</td>\n",
       "      <td>0.000000</td>\n",
       "      <td>0.000000</td>\n",
       "      <td>0.000000</td>\n",
       "    </tr>\n",
       "    <tr>\n",
       "      <th>50%</th>\n",
       "      <td>59695.500000</td>\n",
       "      <td>2016-05-04 00:00:00</td>\n",
       "      <td>2016-09-06 00:00:00</td>\n",
       "      <td>69.000000</td>\n",
       "      <td>3.000000</td>\n",
       "      <td>2.000000</td>\n",
       "      <td>94.575000</td>\n",
       "      <td>2016-08-07 00:00:00</td>\n",
       "      <td>0.000000</td>\n",
       "      <td>176.000000</td>\n",
       "      <td>0.000000</td>\n",
       "    </tr>\n",
       "    <tr>\n",
       "      <th>75%</th>\n",
       "      <td>89542.750000</td>\n",
       "      <td>2016-12-09 00:00:00</td>\n",
       "      <td>2017-03-18 00:00:00</td>\n",
       "      <td>160.000000</td>\n",
       "      <td>4.000000</td>\n",
       "      <td>2.000000</td>\n",
       "      <td>126.000000</td>\n",
       "      <td>2017-02-08 00:00:00</td>\n",
       "      <td>1.000000</td>\n",
       "      <td>342.977500</td>\n",
       "      <td>0.000000</td>\n",
       "    </tr>\n",
       "    <tr>\n",
       "      <th>max</th>\n",
       "      <td>119390.000000</td>\n",
       "      <td>2017-08-31 00:00:00</td>\n",
       "      <td>2017-08-31 00:00:00</td>\n",
       "      <td>737.000000</td>\n",
       "      <td>69.000000</td>\n",
       "      <td>55.000000</td>\n",
       "      <td>5400.000000</td>\n",
       "      <td>2017-09-14 00:00:00</td>\n",
       "      <td>1.000000</td>\n",
       "      <td>7590.000000</td>\n",
       "      <td>0.000000</td>\n",
       "    </tr>\n",
       "    <tr>\n",
       "      <th>std</th>\n",
       "      <td>34465.068657</td>\n",
       "      <td>NaN</td>\n",
       "      <td>NaN</td>\n",
       "      <td>106.863097</td>\n",
       "      <td>2.557439</td>\n",
       "      <td>0.722394</td>\n",
       "      <td>50.535790</td>\n",
       "      <td>NaN</td>\n",
       "      <td>0.482918</td>\n",
       "      <td>300.921393</td>\n",
       "      <td>277.102641</td>\n",
       "    </tr>\n",
       "  </tbody>\n",
       "</table>\n",
       "</div>"
      ],
      "text/plain": [
       "          Booking ID                   Booking Date  \\\n",
       "count  119390.000000                         119390   \n",
       "mean    59695.500000  2016-05-16 16:23:19.353379840   \n",
       "min         1.000000            2013-06-24 00:00:00   \n",
       "25%     29848.250000            2015-11-28 00:00:00   \n",
       "50%     59695.500000            2016-05-04 00:00:00   \n",
       "75%     89542.750000            2016-12-09 00:00:00   \n",
       "max    119390.000000            2017-08-31 00:00:00   \n",
       "std     34465.068657                            NaN   \n",
       "\n",
       "                        Arrival Date      Lead Time         Nights  \\\n",
       "count                         119390  119390.000000  119390.000000   \n",
       "mean   2016-08-28 16:39:45.727447808     104.011416       3.427900   \n",
       "min              2015-07-01 00:00:00       0.000000       0.000000   \n",
       "25%              2016-03-13 00:00:00      18.000000       2.000000   \n",
       "50%              2016-09-06 00:00:00      69.000000       3.000000   \n",
       "75%              2017-03-18 00:00:00     160.000000       4.000000   \n",
       "max              2017-08-31 00:00:00     737.000000      69.000000   \n",
       "std                              NaN     106.863097       2.557439   \n",
       "\n",
       "              Guests  Avg Daily Rate                  Status Update  \\\n",
       "count  119390.000000   119390.000000                         119390   \n",
       "mean        1.968239      101.831122  2016-07-30 00:24:47.883407104   \n",
       "min         0.000000       -6.380000            2014-10-17 00:00:00   \n",
       "25%         2.000000       69.290000            2016-02-01 00:00:00   \n",
       "50%         2.000000       94.575000            2016-08-07 00:00:00   \n",
       "75%         2.000000      126.000000            2017-02-08 00:00:00   \n",
       "max        55.000000     5400.000000            2017-09-14 00:00:00   \n",
       "std         0.722394       50.535790                            NaN   \n",
       "\n",
       "       Cancelled (0/1)        Revenue   Revenue Loss  \n",
       "count    119390.000000  119390.000000  119390.000000  \n",
       "mean          0.370416     247.931966    -109.916242  \n",
       "min           0.000000     -63.800000   -6300.000000  \n",
       "25%           0.000000       0.000000       0.000000  \n",
       "50%           0.000000     176.000000       0.000000  \n",
       "75%           1.000000     342.977500       0.000000  \n",
       "max           1.000000    7590.000000       0.000000  \n",
       "std           0.482918     300.921393     277.102641  "
      ]
     },
     "execution_count": 13,
     "metadata": {},
     "output_type": "execute_result"
    }
   ],
   "source": [
    "#basic statistics of dataset\n",
    "df.describe()\n"
   ]
  },
  {
   "cell_type": "code",
   "execution_count": null,
   "metadata": {},
   "outputs": [],
   "source": [
    "#drop booking_id column\n",
    "df = df.drop('Booking ID', axis=1)\n"
   ]
  },
  {
   "cell_type": "code",
   "execution_count": 22,
   "metadata": {},
   "outputs": [
    {
     "name": "stdout",
     "output_type": "stream",
     "text": [
      "    Hotel Booking Date Arrival Date  Lead Time  Nights  Guests  \\\n",
      "0  Resort   2014-07-24   2015-07-01        342       0       2   \n",
      "1  Resort   2013-06-24   2015-07-01        737       0       2   \n",
      "2  Resort   2015-06-24   2015-07-01          7       1       1   \n",
      "3  Resort   2015-06-18   2015-07-01         13       1       1   \n",
      "4  Resort   2015-06-17   2015-07-01         14       2       2   \n",
      "\n",
      "  Distribution Channel Customer Type         Country Deposit Type  \\\n",
      "0               Direct     Transient        Portugal   No Deposit   \n",
      "1               Direct     Transient        Portugal   No Deposit   \n",
      "2               Direct     Transient  United Kingdom   No Deposit   \n",
      "3            Corporate     Transient  United Kingdom   No Deposit   \n",
      "4  Online Travel Agent     Transient  United Kingdom   No Deposit   \n",
      "\n",
      "   Avg Daily Rate     Status Status Update  Cancelled (0/1)  Revenue  \\\n",
      "0             0.0  Check-Out    2015-07-01                0      0.0   \n",
      "1             0.0  Check-Out    2015-07-01                0      0.0   \n",
      "2            75.0  Check-Out    2015-07-02                0     75.0   \n",
      "3            75.0  Check-Out    2015-07-02                0     75.0   \n",
      "4            98.0  Check-Out    2015-07-03                0    196.0   \n",
      "\n",
      "   Revenue Loss  \n",
      "0           0.0  \n",
      "1           0.0  \n",
      "2           0.0  \n",
      "3           0.0  \n",
      "4           0.0  \n"
     ]
    }
   ],
   "source": [
    "print(df.head())"
   ]
  },
  {
   "cell_type": "markdown",
   "metadata": {},
   "source": [
    "Handling Outliers for Numerical Variables"
   ]
  },
  {
   "cell_type": "code",
   "execution_count": 23,
   "metadata": {},
   "outputs": [
    {
     "name": "stdout",
     "output_type": "stream",
     "text": [
      "['Lead Time', 'Nights', 'Guests', 'Avg Daily Rate', 'Cancelled (0/1)', 'Revenue', 'Revenue Loss']\n"
     ]
    }
   ],
   "source": [
    "numerical_variables = df.select_dtypes(include='number').columns.tolist()\n",
    "print(numerical_variables)\n",
    "\n"
   ]
  },
  {
   "cell_type": "markdown",
   "metadata": {},
   "source": [
    "Even though Cancelled, Number of guests are numerical but doesn't belong to continuos numerical variable where we can find outliers. \n",
    "So, find continous numerical variables and handle the outliers of it\n"
   ]
  },
  {
   "cell_type": "code",
   "execution_count": 26,
   "metadata": {},
   "outputs": [
    {
     "name": "stdout",
     "output_type": "stream",
     "text": [
      "Discrete Variables:\n",
      "['Nights', 'Guests', 'Cancelled (0/1)']\n",
      "Continuous Variables:\n",
      "['Lead Time', 'Avg Daily Rate', 'Revenue', 'Revenue Loss']\n"
     ]
    }
   ],
   "source": [
    "discrete_variables = [var for var in numerical_variables if df[var].nunique() < 150]\n",
    "continuous_variables = [var for var in numerical_variables if var not in discrete_variables]\n",
    "\n",
    "print(\"Discrete Variables:\")\n",
    "print(discrete_variables)\n",
    "\n",
    "print(\"Continuous Variables:\")\n",
    "print(continuous_variables)\n"
   ]
  },
  {
   "cell_type": "markdown",
   "metadata": {},
   "source": [
    "Therefore, Lead Time, Avg Daily Rate, Revenue and Revenue Loss are our actual numerical variables\n"
   ]
  },
  {
   "cell_type": "markdown",
   "metadata": {},
   "source": [
    "Checking for Outliers\n"
   ]
  },
  {
   "cell_type": "code",
   "execution_count": 28,
   "metadata": {},
   "outputs": [
    {
     "data": {
      "image/png": "[encoded data removed]",
      "text/plain": [
       "<Figure size 800x400 with 1 Axes>"
      ]
     },
     "metadata": {},
     "output_type": "display_data"
    },
    {
     "data": {
      "image/png": "[encoded data removed]",
      "text/plain": [
       "<Figure size 800x400 with 1 Axes>"
      ]
     },
     "metadata": {},
     "output_type": "display_data"
    },
    {
     "data": {
      "image/png": "[encoded data removed]",
      "text/plain": [
       "<Figure size 800x400 with 1 Axes>"
      ]
     },
     "metadata": {},
     "output_type": "display_data"
    },
    {
     "data": {
      "image/png": "[encoded data removed]",
      "text/plain": [
       "<Figure size 800x400 with 1 Axes>"
      ]
     },
     "metadata": {},
     "output_type": "display_data"
    }
   ],
   "source": [
    "# Create box plots for continuous variables\n",
    "for var in continuous_variables:\n",
    "    plt.figure(figsize=(8, 4))\n",
    "    plt.boxplot(df[var])\n",
    "    plt.title(f'Boxplot of {var}')\n",
    "    plt.show()\n"
   ]
  },
  {
   "cell_type": "markdown",
   "metadata": {},
   "source": [
    "We can see there are outliers in all the numerical variables"
   ]
  },
  {
   "cell_type": "code",
   "execution_count": 34,
   "metadata": {},
   "outputs": [],
   "source": [
    "# Calculate z-scores for the numerical variables\n",
    "z_scores = stats.zscore(df[continuous_variables])\n",
    "\n",
    "# Create a DataFrame with z-scores\n",
    "z_scores_df = pd.DataFrame(z_scores, columns=continuous_variables)\n",
    "\n",
    "# Remove rows with z-scores greater than the threshold\n",
    "df_no_outliers = df[(z_scores_df.abs() < threshold).all(axis=1)]"
   ]
  },
  {
   "cell_type": "code",
   "execution_count": 35,
   "metadata": {},
   "outputs": [
    {
     "data": {
      "image/png": "[encoded data removed]",
      "text/plain": [
       "<Figure size 800x400 with 1 Axes>"
      ]
     },
     "metadata": {},
     "output_type": "display_data"
    },
    {
     "data": {
      "image/png": "[encoded data removed]",
      "text/plain": [
       "<Figure size 800x400 with 1 Axes>"
      ]
     },
     "metadata": {},
     "output_type": "display_data"
    },
    {
     "data": {
      "image/png": "[encoded data removed]",
      "text/plain": [
       "<Figure size 800x400 with 1 Axes>"
      ]
     },
     "metadata": {},
     "output_type": "display_data"
    },
    {
     "data": {
      "image/png": "[encoded data removed]",
      "text/plain": [
       "<Figure size 800x400 with 1 Axes>"
      ]
     },
     "metadata": {},
     "output_type": "display_data"
    }
   ],
   "source": [
    "# Create box plots for continuous variables in df_no_outliers\n",
    "for var in continuous_variables:\n",
    "    plt.figure(figsize=(8, 4))\n",
    "    plt.boxplot(df_no_outliers[var])\n",
    "    plt.title(f'Boxplot of {var} (without outliers)')\n",
    "    plt.show()\n"
   ]
  },
  {
   "cell_type": "code",
   "execution_count": null,
   "metadata": {},
   "outputs": [],
   "source": []
  }
 ],
 "metadata": {
  "kernelspec": {
   "display_name": "base",
   "language": "python",
   "name": "python3"
  },
  "language_info": {
   "codemirror_mode": {
    "name": "ipython",
    "version": 3
   },
   "file_extension": ".py",
   "mimetype": "text/x-python",
   "name": "python",
   "nbconvert_exporter": "python",
   "pygments_lexer": "ipython3",
   "version": "3.11.5"
  }
 },
 "nbformat": 4,
 "nbformat_minor": 2
}
